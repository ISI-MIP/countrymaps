version https://git-lfs.github.com/spec/v1
oid sha256:039a7d34307e196901fda959ffe2851376f0a6d047a3899bd1264daf183c1cd4
size 323088
