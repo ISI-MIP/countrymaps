version https://git-lfs.github.com/spec/v1
oid sha256:2b56361168fab4422508a6f203eeea6bd0741f75d99747c8d2e3d0bea393b2c4
size 177106
