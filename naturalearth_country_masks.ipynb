version https://git-lfs.github.com/spec/v1
oid sha256:fa695b7506ea8e3756d4a65a72c4be1ffefa006f6925451fd15136a6726b0d1b
size 877684
