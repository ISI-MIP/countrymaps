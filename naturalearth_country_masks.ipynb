version https://git-lfs.github.com/spec/v1
oid sha256:01bdf864d59290d10687d563f0c1aa18dd6103007531bd83afe53f063eb6ba02
size 377977
