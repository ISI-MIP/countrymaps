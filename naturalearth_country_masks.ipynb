version https://git-lfs.github.com/spec/v1
oid sha256:825dc2630e05b0a3a697c6756ab642f223be64c229c4bec467c6623d3860fc3c
size 878183
