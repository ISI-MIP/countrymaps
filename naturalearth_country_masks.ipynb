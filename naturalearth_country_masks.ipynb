version https://git-lfs.github.com/spec/v1
oid sha256:0b88e5e93ebd11fb9ff717c5269350d700c4c5fbb7b65d7bb691cd49c2a7796b
size 877456
