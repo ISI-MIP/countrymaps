version https://git-lfs.github.com/spec/v1
oid sha256:b3a844f1b25ec0c80ec4e6e8a07a332e7108d0355653b00d35813b9777228096
size 563419
