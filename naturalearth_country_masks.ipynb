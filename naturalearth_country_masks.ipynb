version https://git-lfs.github.com/spec/v1
oid sha256:1a69788ba5daec0118591e74d2b0528c9cfa33483c6d3ee29eb0f9da502b2e8a
size 443411
