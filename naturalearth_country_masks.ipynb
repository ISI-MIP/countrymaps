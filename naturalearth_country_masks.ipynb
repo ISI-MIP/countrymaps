version https://git-lfs.github.com/spec/v1
oid sha256:9d564393d85a6af4377bdfeb90f7f8b231f30f1c07f46eee4ef5fb05bb6e44ae
size 892908
