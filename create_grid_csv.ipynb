version https://git-lfs.github.com/spec/v1
oid sha256:1d3210a144fa51aa31853fdb56e4f33e84f794feafbd77f17da4a83476f5ea6c
size 295520
